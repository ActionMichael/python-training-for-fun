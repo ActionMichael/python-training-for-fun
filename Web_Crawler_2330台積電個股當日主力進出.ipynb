{
  "nbformat": 4,
  "nbformat_minor": 0,
  "metadata": {
    "colab": {
      "name": "Web Crawler 2330台積電個股當日主力進出.ipynb",
      "provenance": [],
      "authorship_tag": "ABX9TyPHL++tMDPlwzHJocFD4M/j",
      "include_colab_link": true
    },
    "kernelspec": {
      "name": "python3",
      "display_name": "Python 3"
    }
  },
  "cells": [
    {
      "cell_type": "markdown",
      "metadata": {
        "id": "view-in-github",
        "colab_type": "text"
      },
      "source": [
        "<a href=\"https://colab.research.google.com/github/ActionMichael/python-training-for-fun/blob/master/Web_Crawler_2330%E5%8F%B0%E7%A9%8D%E9%9B%BB%E5%80%8B%E8%82%A1%E7%95%B6%E6%97%A5%E4%B8%BB%E5%8A%9B%E9%80%B2%E5%87%BA.ipynb\" target=\"_parent\"><img src=\"https://colab.research.google.com/assets/colab-badge.svg\" alt=\"Open In Colab\"/></a>"
      ]
    },
    {
      "cell_type": "code",
      "metadata": {
        "id": "m8sxZyjZueGS",
        "colab_type": "code",
        "colab": {}
      },
      "source": [
        "import pandas as pd"
      ],
      "execution_count": 0,
      "outputs": []
    },
    {
      "cell_type": "code",
      "metadata": {
        "id": "tRS3J_DOu0Hs",
        "colab_type": "code",
        "colab": {}
      },
      "source": [
        "url = \"https://tw.stock.yahoo.com/d/s/major_2330.html\""
      ],
      "execution_count": 0,
      "outputs": []
    },
    {
      "cell_type": "code",
      "metadata": {
        "id": "jYS3SHUKvJ2B",
        "colab_type": "code",
        "colab": {}
      },
      "source": [
        "df = pd.read_html(url)"
      ],
      "execution_count": 0,
      "outputs": []
    },
    {
      "cell_type": "code",
      "metadata": {
        "id": "srH3HewJx2WQ",
        "colab_type": "code",
        "colab": {
          "base_uri": "https://localhost:8080/",
          "height": 476
        },
        "outputId": "555dcd1e-800f-4e5a-eaf8-64a5e50dc090"
      },
      "source": [
        "df"
      ],
      "execution_count": 14,
      "outputs": [
        {
          "output_type": "execute_result",
          "data": {
            "text/plain": [
              "[                                                   0                                                  1\n",
              " 0  2330¥x¿n¹q  ¨«¶Õ¹Ï  §Þ³N¤ÀªR  ¦¨¥æ·J¾ã  °ò¥»  ...  2330¥x¿n¹q  ¨«¶Õ¹Ï  §Þ³N¤ÀªR  ¦¨¥æ·J¾ã  °ò¥»  ...\n",
              " 1                                                NaN                                                NaN\n",
              " 2  ¥D¤O¶i¥X¡@¸ê¨éÅÜ¤Æ¡@¡@¡@¡@¡@¡@¡@¡@¡@¡@¡@¡@¡@¡@...                                                NaN,\n",
              "                                                    0                                                  1\n",
              " 0  ¸ê®Æ¤é´Á¡G109 /04 /01 ­Ó ªÑ ·í ¤é ¥D ¤O ¶i ¥X ...  ¸ê®Æ¤é´Á¡G109 /04 /01 ­Ó ªÑ ·í ¤é ¥D ¤O ¶i ¥X ...,\n",
              "                        0                        1           2\n",
              " 0  ¸ê®Æ¤é´Á¡G109 /04 /01  ­Ó ªÑ ·í ¤é ¥D ¤O ¶i ¥X  ³æ¦ì¡G±i¼Æ,\n",
              "                 0     1     2      3               4     5     6      7\n",
              " 0        ¶R¶W¨é°Ó  ¶R¶i  ½æ¥X   ¶R¶W        ½æ¶W¨é°Ó  ¶R¶i  ½æ¥X   ½æ¶W\n",
              " 1        ¼¯®Ú¤j³q  7957   916  +7041            ¬üªL  1738  3836  -2098\n",
              " 2      ´ä°Ó³Á®æ²z  4587   756  +3831        °ê®õÃÒ¨é    39  1907  -1868\n",
              " 3        ªáºXÀô²y  1038     0  +1038       ³Í°ò-¥x¥_    69  1926  -1857\n",
              " 4       ¤¸´I-¥x¤¤   625     3   +622    ­»´ä¤W®ü¶×Â×   195  1618  -1423\n",
              " 5        ´I¨¹ÃÒ¨é   503    22   +481    ¥xÆW¶×¥ßÃÒ¨é  1818  3162  -1344\n",
              " 6        ¬ü°Ó°ª²±  1645  1231   +414  ¥xÆW¼¯®Ú¤h¤¦§Q  4122  5314  -1192\n",
              " 7        ¤¸¤jÃÒ¨é  1182   806   +376        ¤j©M°ê®õ   434  1376   -942\n",
              " 8            »O»È   277    53   +224        ´ä°Ó³¥§ø   228  1040   -812\n",
              " 9            ¨ÈªF   192    15   +177    ·s¥[©Y°Ó·ç»È   805  1579   -774\n",
              " 10      ³Í°ò-«H¸q   163     2   +161       ¥üÂ×-«n¨Ê     5   740   -735\n",
              " 11       ¥x·sÃÒ¨é   275   114   +161            ²Î¤@    73   780   -707\n",
              " 12  µØ«n¥Ã©÷-«n¨Ê   131     8   +123        µØ«n¥Ã©÷    38   539   -501\n",
              " 13      ²Î¤@-·s¦Ë   131    15   +116          ²Ä¤@ª÷     3   301   -298\n",
              " 14  ´I¨¹-·s¦ËµØ«H   141    28   +113      ¥ÃÂ×ª÷ÃÒ¨é   329   581   -252\n",
              " 15      ¶§«H-¥ÛµP   124    15   +109   ¸s¯qª÷¹©-ªQ¤s     0   208   -208,\n",
              "                                                    0\n",
              " 0  Yahoo Finance ªA°È±ø´Ú Áô¨pÅv Áô¨pÅv»öªíªO ¹Å¹...]"
            ]
          },
          "metadata": {
            "tags": []
          },
          "execution_count": 14
        }
      ]
    },
    {
      "cell_type": "code",
      "metadata": {
        "id": "Q3KV_qFmyDhe",
        "colab_type": "code",
        "colab": {
          "base_uri": "https://localhost:8080/",
          "height": 165
        },
        "outputId": "43fdc330-aab0-49d8-d343-dd4298e63d22"
      },
      "source": [
        "df.encoding = 'Big5'"
      ],
      "execution_count": 10,
      "outputs": [
        {
          "output_type": "error",
          "ename": "AttributeError",
          "evalue": "ignored",
          "traceback": [
            "\u001b[0;31m---------------------------------------------------------------------------\u001b[0m",
            "\u001b[0;31mAttributeError\u001b[0m                            Traceback (most recent call last)",
            "\u001b[0;32m<ipython-input-10-d328c21263c3>\u001b[0m in \u001b[0;36m<module>\u001b[0;34m()\u001b[0m\n\u001b[0;32m----> 1\u001b[0;31m \u001b[0mdf\u001b[0m\u001b[0;34m.\u001b[0m\u001b[0mencoding\u001b[0m \u001b[0;34m=\u001b[0m \u001b[0;34m'Big5'\u001b[0m\u001b[0;34m\u001b[0m\u001b[0;34m\u001b[0m\u001b[0m\n\u001b[0m",
            "\u001b[0;31mAttributeError\u001b[0m: 'list' object has no attribute 'encoding'"
          ]
        }
      ]
    },
    {
      "cell_type": "code",
      "metadata": {
        "id": "BKjcSrnQyyWG",
        "colab_type": "code",
        "colab": {}
      },
      "source": [
        ""
      ],
      "execution_count": 0,
      "outputs": []
    }
  ]
}