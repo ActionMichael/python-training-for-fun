{
  "nbformat": 4,
  "nbformat_minor": 0,
  "metadata": {
    "colab": {
      "name": "Web Crawler 2330台積電個股當日主力進出.ipynb",
      "provenance": [],
      "authorship_tag": "ABX9TyMLGaLkeLGaIs+p46E2b3yz",
      "include_colab_link": true
    },
    "kernelspec": {
      "name": "python3",
      "display_name": "Python 3"
    }
  },
  "cells": [
    {
      "cell_type": "markdown",
      "metadata": {
        "id": "view-in-github",
        "colab_type": "text"
      },
      "source": [
        "<a href=\"https://colab.research.google.com/github/ActionMichael/python-training-for-fun/blob/master/Web_Crawler_2330%E5%8F%B0%E7%A9%8D%E9%9B%BB%E5%80%8B%E8%82%A1%E7%95%B6%E6%97%A5%E4%B8%BB%E5%8A%9B%E9%80%B2%E5%87%BA.ipynb\" target=\"_parent\"><img src=\"https://colab.research.google.com/assets/colab-badge.svg\" alt=\"Open In Colab\"/></a>"
      ]
    },
    {
      "cell_type": "code",
      "metadata": {
        "id": "m8sxZyjZueGS",
        "colab_type": "code",
        "colab": {}
      },
      "source": [
        "import pandas as pd"
      ],
      "execution_count": 0,
      "outputs": []
    },
    {
      "cell_type": "code",
      "metadata": {
        "id": "tRS3J_DOu0Hs",
        "colab_type": "code",
        "colab": {}
      },
      "source": [
        "url = \"https://tw.stock.yahoo.com/d/s/major_2330.html\""
      ],
      "execution_count": 0,
      "outputs": []
    },
    {
      "cell_type": "code",
      "metadata": {
        "id": "jYS3SHUKvJ2B",
        "colab_type": "code",
        "colab": {}
      },
      "source": [
        "df = pd.read_html(url , encoding='Big5')"
      ],
      "execution_count": 0,
      "outputs": []
    },
    {
      "cell_type": "code",
      "metadata": {
        "id": "srH3HewJx2WQ",
        "colab_type": "code",
        "outputId": "954aeef0-477a-4c57-a14a-6c6ab2352199",
        "colab": {
          "base_uri": "https://localhost:8080/",
          "height": 476
        }
      },
      "source": [
        "df"
      ],
      "execution_count": 6,
      "outputs": [
        {
          "output_type": "execute_result",
          "data": {
            "text/plain": [
              "[                                                0                                               1\n",
              " 0  2330台積電  走勢圖  技術分析  成交彙整  基本  籌碼  股利政策  新聞  健診  2330台積電  走勢圖  技術分析  成交彙整  基本  籌碼  股利政策  新聞  健診\n",
              " 1                                             NaN                                             NaN\n",
              " 2                                       主力進出　資券變化                                             NaN,\n",
              "                                                    0                                                  1\n",
              " 0  資料日期：109 /04 /01 個 股 當 日 主 力 進 出  單位：張數  買超券商 ...  資料日期：109 /04 /01 個 股 當 日 主 力 進 出  單位：張數  買超券商 ...,\n",
              "                   0                1      2\n",
              " 0  資料日期：109 /04 /01  個 股 當 日 主 力 進 出  單位：張數,\n",
              "           0     1     2      3        4     5     6      7\n",
              " 0      買超券商    買進    賣出     買超     賣超券商    買進    賣出     賣超\n",
              " 1      摩根大通  7957   916  +7041       美林  1738  3836  -2098\n",
              " 2     港商麥格理  4587   756  +3831     國泰證券    39  1907  -1868\n",
              " 3      花旗環球  1038     0  +1038    凱基-台北    69  1926  -1857\n",
              " 4     元富-台中   625     3   +622   香港上海匯豐   195  1618  -1423\n",
              " 5      富邦證券   503    22   +481   台灣匯立證券  1818  3162  -1344\n",
              " 6      美商高盛  1645  1231   +414  台灣摩根士丹利  4122  5314  -1192\n",
              " 7      元大證券  1182   806   +376     大和國泰   434  1376   -942\n",
              " 8        臺銀   277    53   +224     港商野村   228  1040   -812\n",
              " 9        亞東   192    15   +177   新加坡商瑞銀   805  1579   -774\n",
              " 10    凱基-信義   163     2   +161    兆豐-南京     5   740   -735\n",
              " 11     台新證券   275   114   +161       統一    73   780   -707\n",
              " 12  華南永昌-南京   131     8   +123     華南永昌    38   539   -501\n",
              " 13    統一-新竹   131    15   +116      第一金     3   301   -298\n",
              " 14  富邦-新竹華信   141    28   +113    永豐金證券   329   581   -252\n",
              " 15    陽信-石牌   124    15   +109  群益金鼎-松山     0   208   -208,\n",
              "                                                    0\n",
              " 0  Yahoo Finance 服務條款 隱私權 請勿銷售我的基本資料 嘉實資訊　版權所有 © ...]"
            ]
          },
          "metadata": {
            "tags": []
          },
          "execution_count": 6
        }
      ]
    },
    {
      "cell_type": "code",
      "metadata": {
        "id": "7iZLi2ieersB",
        "colab_type": "code",
        "colab": {
          "base_uri": "https://localhost:8080/",
          "height": 545
        },
        "outputId": "53ac72f1-b016-4e50-dd70-0e18c9ead73a"
      },
      "source": [
        "df[3]"
      ],
      "execution_count": 7,
      "outputs": [
        {
          "output_type": "execute_result",
          "data": {
            "text/html": [
              "<div>\n",
              "<style scoped>\n",
              "    .dataframe tbody tr th:only-of-type {\n",
              "        vertical-align: middle;\n",
              "    }\n",
              "\n",
              "    .dataframe tbody tr th {\n",
              "        vertical-align: top;\n",
              "    }\n",
              "\n",
              "    .dataframe thead th {\n",
              "        text-align: right;\n",
              "    }\n",
              "</style>\n",
              "<table border=\"1\" class=\"dataframe\">\n",
              "  <thead>\n",
              "    <tr style=\"text-align: right;\">\n",
              "      <th></th>\n",
              "      <th>0</th>\n",
              "      <th>1</th>\n",
              "      <th>2</th>\n",
              "      <th>3</th>\n",
              "      <th>4</th>\n",
              "      <th>5</th>\n",
              "      <th>6</th>\n",
              "      <th>7</th>\n",
              "    </tr>\n",
              "  </thead>\n",
              "  <tbody>\n",
              "    <tr>\n",
              "      <th>0</th>\n",
              "      <td>買超券商</td>\n",
              "      <td>買進</td>\n",
              "      <td>賣出</td>\n",
              "      <td>買超</td>\n",
              "      <td>賣超券商</td>\n",
              "      <td>買進</td>\n",
              "      <td>賣出</td>\n",
              "      <td>賣超</td>\n",
              "    </tr>\n",
              "    <tr>\n",
              "      <th>1</th>\n",
              "      <td>摩根大通</td>\n",
              "      <td>7957</td>\n",
              "      <td>916</td>\n",
              "      <td>+7041</td>\n",
              "      <td>美林</td>\n",
              "      <td>1738</td>\n",
              "      <td>3836</td>\n",
              "      <td>-2098</td>\n",
              "    </tr>\n",
              "    <tr>\n",
              "      <th>2</th>\n",
              "      <td>港商麥格理</td>\n",
              "      <td>4587</td>\n",
              "      <td>756</td>\n",
              "      <td>+3831</td>\n",
              "      <td>國泰證券</td>\n",
              "      <td>39</td>\n",
              "      <td>1907</td>\n",
              "      <td>-1868</td>\n",
              "    </tr>\n",
              "    <tr>\n",
              "      <th>3</th>\n",
              "      <td>花旗環球</td>\n",
              "      <td>1038</td>\n",
              "      <td>0</td>\n",
              "      <td>+1038</td>\n",
              "      <td>凱基-台北</td>\n",
              "      <td>69</td>\n",
              "      <td>1926</td>\n",
              "      <td>-1857</td>\n",
              "    </tr>\n",
              "    <tr>\n",
              "      <th>4</th>\n",
              "      <td>元富-台中</td>\n",
              "      <td>625</td>\n",
              "      <td>3</td>\n",
              "      <td>+622</td>\n",
              "      <td>香港上海匯豐</td>\n",
              "      <td>195</td>\n",
              "      <td>1618</td>\n",
              "      <td>-1423</td>\n",
              "    </tr>\n",
              "    <tr>\n",
              "      <th>5</th>\n",
              "      <td>富邦證券</td>\n",
              "      <td>503</td>\n",
              "      <td>22</td>\n",
              "      <td>+481</td>\n",
              "      <td>台灣匯立證券</td>\n",
              "      <td>1818</td>\n",
              "      <td>3162</td>\n",
              "      <td>-1344</td>\n",
              "    </tr>\n",
              "    <tr>\n",
              "      <th>6</th>\n",
              "      <td>美商高盛</td>\n",
              "      <td>1645</td>\n",
              "      <td>1231</td>\n",
              "      <td>+414</td>\n",
              "      <td>台灣摩根士丹利</td>\n",
              "      <td>4122</td>\n",
              "      <td>5314</td>\n",
              "      <td>-1192</td>\n",
              "    </tr>\n",
              "    <tr>\n",
              "      <th>7</th>\n",
              "      <td>元大證券</td>\n",
              "      <td>1182</td>\n",
              "      <td>806</td>\n",
              "      <td>+376</td>\n",
              "      <td>大和國泰</td>\n",
              "      <td>434</td>\n",
              "      <td>1376</td>\n",
              "      <td>-942</td>\n",
              "    </tr>\n",
              "    <tr>\n",
              "      <th>8</th>\n",
              "      <td>臺銀</td>\n",
              "      <td>277</td>\n",
              "      <td>53</td>\n",
              "      <td>+224</td>\n",
              "      <td>港商野村</td>\n",
              "      <td>228</td>\n",
              "      <td>1040</td>\n",
              "      <td>-812</td>\n",
              "    </tr>\n",
              "    <tr>\n",
              "      <th>9</th>\n",
              "      <td>亞東</td>\n",
              "      <td>192</td>\n",
              "      <td>15</td>\n",
              "      <td>+177</td>\n",
              "      <td>新加坡商瑞銀</td>\n",
              "      <td>805</td>\n",
              "      <td>1579</td>\n",
              "      <td>-774</td>\n",
              "    </tr>\n",
              "    <tr>\n",
              "      <th>10</th>\n",
              "      <td>凱基-信義</td>\n",
              "      <td>163</td>\n",
              "      <td>2</td>\n",
              "      <td>+161</td>\n",
              "      <td>兆豐-南京</td>\n",
              "      <td>5</td>\n",
              "      <td>740</td>\n",
              "      <td>-735</td>\n",
              "    </tr>\n",
              "    <tr>\n",
              "      <th>11</th>\n",
              "      <td>台新證券</td>\n",
              "      <td>275</td>\n",
              "      <td>114</td>\n",
              "      <td>+161</td>\n",
              "      <td>統一</td>\n",
              "      <td>73</td>\n",
              "      <td>780</td>\n",
              "      <td>-707</td>\n",
              "    </tr>\n",
              "    <tr>\n",
              "      <th>12</th>\n",
              "      <td>華南永昌-南京</td>\n",
              "      <td>131</td>\n",
              "      <td>8</td>\n",
              "      <td>+123</td>\n",
              "      <td>華南永昌</td>\n",
              "      <td>38</td>\n",
              "      <td>539</td>\n",
              "      <td>-501</td>\n",
              "    </tr>\n",
              "    <tr>\n",
              "      <th>13</th>\n",
              "      <td>統一-新竹</td>\n",
              "      <td>131</td>\n",
              "      <td>15</td>\n",
              "      <td>+116</td>\n",
              "      <td>第一金</td>\n",
              "      <td>3</td>\n",
              "      <td>301</td>\n",
              "      <td>-298</td>\n",
              "    </tr>\n",
              "    <tr>\n",
              "      <th>14</th>\n",
              "      <td>富邦-新竹華信</td>\n",
              "      <td>141</td>\n",
              "      <td>28</td>\n",
              "      <td>+113</td>\n",
              "      <td>永豐金證券</td>\n",
              "      <td>329</td>\n",
              "      <td>581</td>\n",
              "      <td>-252</td>\n",
              "    </tr>\n",
              "    <tr>\n",
              "      <th>15</th>\n",
              "      <td>陽信-石牌</td>\n",
              "      <td>124</td>\n",
              "      <td>15</td>\n",
              "      <td>+109</td>\n",
              "      <td>群益金鼎-松山</td>\n",
              "      <td>0</td>\n",
              "      <td>208</td>\n",
              "      <td>-208</td>\n",
              "    </tr>\n",
              "  </tbody>\n",
              "</table>\n",
              "</div>"
            ],
            "text/plain": [
              "          0     1     2      3        4     5     6      7\n",
              "0      買超券商    買進    賣出     買超     賣超券商    買進    賣出     賣超\n",
              "1      摩根大通  7957   916  +7041       美林  1738  3836  -2098\n",
              "2     港商麥格理  4587   756  +3831     國泰證券    39  1907  -1868\n",
              "3      花旗環球  1038     0  +1038    凱基-台北    69  1926  -1857\n",
              "4     元富-台中   625     3   +622   香港上海匯豐   195  1618  -1423\n",
              "5      富邦證券   503    22   +481   台灣匯立證券  1818  3162  -1344\n",
              "6      美商高盛  1645  1231   +414  台灣摩根士丹利  4122  5314  -1192\n",
              "7      元大證券  1182   806   +376     大和國泰   434  1376   -942\n",
              "8        臺銀   277    53   +224     港商野村   228  1040   -812\n",
              "9        亞東   192    15   +177   新加坡商瑞銀   805  1579   -774\n",
              "10    凱基-信義   163     2   +161    兆豐-南京     5   740   -735\n",
              "11     台新證券   275   114   +161       統一    73   780   -707\n",
              "12  華南永昌-南京   131     8   +123     華南永昌    38   539   -501\n",
              "13    統一-新竹   131    15   +116      第一金     3   301   -298\n",
              "14  富邦-新竹華信   141    28   +113    永豐金證券   329   581   -252\n",
              "15    陽信-石牌   124    15   +109  群益金鼎-松山     0   208   -208"
            ]
          },
          "metadata": {
            "tags": []
          },
          "execution_count": 7
        }
      ]
    },
    {
      "cell_type": "code",
      "metadata": {
        "id": "Q3KV_qFmyDhe",
        "colab_type": "code",
        "outputId": "43fdc330-aab0-49d8-d343-dd4298e63d22",
        "colab": {
          "base_uri": "https://localhost:8080/",
          "height": 165
        }
      },
      "source": [
        "df.encoding = 'Big5'"
      ],
      "execution_count": 0,
      "outputs": [
        {
          "output_type": "error",
          "ename": "AttributeError",
          "evalue": "ignored",
          "traceback": [
            "\u001b[0;31m---------------------------------------------------------------------------\u001b[0m",
            "\u001b[0;31mAttributeError\u001b[0m                            Traceback (most recent call last)",
            "\u001b[0;32m<ipython-input-10-d328c21263c3>\u001b[0m in \u001b[0;36m<module>\u001b[0;34m()\u001b[0m\n\u001b[0;32m----> 1\u001b[0;31m \u001b[0mdf\u001b[0m\u001b[0;34m.\u001b[0m\u001b[0mencoding\u001b[0m \u001b[0;34m=\u001b[0m \u001b[0;34m'Big5'\u001b[0m\u001b[0;34m\u001b[0m\u001b[0;34m\u001b[0m\u001b[0m\n\u001b[0m",
            "\u001b[0;31mAttributeError\u001b[0m: 'list' object has no attribute 'encoding'"
          ]
        }
      ]
    },
    {
      "cell_type": "code",
      "metadata": {
        "id": "iRhVdVgkVzRb",
        "colab_type": "code",
        "outputId": "754f0d1c-a247-436b-f501-45b15fc95563",
        "colab": {
          "base_uri": "https://localhost:8080/",
          "height": 221
        }
      },
      "source": [
        "!pip install requests\n",
        "!pip install pyquery"
      ],
      "execution_count": 0,
      "outputs": [
        {
          "output_type": "stream",
          "text": [
            "Requirement already satisfied: requests in /usr/local/lib/python3.6/dist-packages (2.21.0)\n",
            "Requirement already satisfied: chardet<3.1.0,>=3.0.2 in /usr/local/lib/python3.6/dist-packages (from requests) (3.0.4)\n",
            "Requirement already satisfied: idna<2.9,>=2.5 in /usr/local/lib/python3.6/dist-packages (from requests) (2.8)\n",
            "Requirement already satisfied: urllib3<1.25,>=1.21.1 in /usr/local/lib/python3.6/dist-packages (from requests) (1.24.3)\n",
            "Requirement already satisfied: certifi>=2017.4.17 in /usr/local/lib/python3.6/dist-packages (from requests) (2019.11.28)\n",
            "Collecting pyquery\n",
            "  Downloading https://files.pythonhosted.org/packages/78/43/95d42e386c61cb639d1a0b94f0c0b9f0b7d6b981ad3c043a836c8b5bc68b/pyquery-1.4.1-py2.py3-none-any.whl\n",
            "Collecting cssselect>0.7.9\n",
            "  Downloading https://files.pythonhosted.org/packages/3b/d4/3b5c17f00cce85b9a1e6f91096e1cc8e8ede2e1be8e96b87ce1ed09e92c5/cssselect-1.1.0-py2.py3-none-any.whl\n",
            "Requirement already satisfied: lxml>=2.1 in /usr/local/lib/python3.6/dist-packages (from pyquery) (4.2.6)\n",
            "Installing collected packages: cssselect, pyquery\n",
            "Successfully installed cssselect-1.1.0 pyquery-1.4.1\n"
          ],
          "name": "stdout"
        }
      ]
    },
    {
      "cell_type": "code",
      "metadata": {
        "id": "BKjcSrnQyyWG",
        "colab_type": "code",
        "outputId": "cd556d6c-02e9-4d34-e720-303372b27d08",
        "colab": {
          "base_uri": "https://localhost:8080/",
          "height": 34
        }
      },
      "source": [
        "import requests\n",
        "from pyquery import PyQuery as pq\n",
        "\n",
        "res = requests.get(\"https://tw.stock.yahoo.com/d/s/major_2330.html\")\n",
        "res.encoding = \"utf-8\"\n",
        "\n",
        "doc = pq(res.text)\n",
        "\n",
        "doc\n"
      ],
      "execution_count": 0,
      "outputs": [
        {
          "output_type": "execute_result",
          "data": {
            "text/plain": [
              "[<html>]"
            ]
          },
          "metadata": {
            "tags": []
          },
          "execution_count": 6
        }
      ]
    },
    {
      "cell_type": "code",
      "metadata": {
        "id": "dGTepJEGVQ2P",
        "colab_type": "code",
        "colab": {}
      },
      "source": [
        ""
      ],
      "execution_count": 0,
      "outputs": []
    }
  ]
}