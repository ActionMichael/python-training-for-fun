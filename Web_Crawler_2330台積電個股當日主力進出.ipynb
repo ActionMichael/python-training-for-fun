{
  "nbformat": 4,
  "nbformat_minor": 0,
  "metadata": {
    "colab": {
      "name": "Web Crawler 2330台積電個股當日主力進出.ipynb",
      "provenance": [],
      "authorship_tag": "ABX9TyPKBJRTNr3fMvRDoY+051g7",
      "include_colab_link": true
    },
    "kernelspec": {
      "name": "python3",
      "display_name": "Python 3"
    }
  },
  "cells": [
    {
      "cell_type": "markdown",
      "metadata": {
        "id": "view-in-github",
        "colab_type": "text"
      },
      "source": [
        "<a href=\"https://colab.research.google.com/github/ActionMichael/python-training-for-fun/blob/master/Web_Crawler_2330%E5%8F%B0%E7%A9%8D%E9%9B%BB%E5%80%8B%E8%82%A1%E7%95%B6%E6%97%A5%E4%B8%BB%E5%8A%9B%E9%80%B2%E5%87%BA.ipynb\" target=\"_parent\"><img src=\"https://colab.research.google.com/assets/colab-badge.svg\" alt=\"Open In Colab\"/></a>"
      ]
    },
    {
      "cell_type": "code",
      "metadata": {
        "id": "m8sxZyjZueGS",
        "colab_type": "code",
        "colab": {}
      },
      "source": [
        "import pandas as pd"
      ],
      "execution_count": 0,
      "outputs": []
    },
    {
      "cell_type": "code",
      "metadata": {
        "id": "tRS3J_DOu0Hs",
        "colab_type": "code",
        "colab": {}
      },
      "source": [
        "url = \"https://tw.stock.yahoo.com/d/s/major_2330.html\""
      ],
      "execution_count": 0,
      "outputs": []
    },
    {
      "cell_type": "code",
      "metadata": {
        "id": "jYS3SHUKvJ2B",
        "colab_type": "code",
        "colab": {}
      },
      "source": [
        "df = pd.read_html(url)"
      ],
      "execution_count": 0,
      "outputs": []
    },
    {
      "cell_type": "code",
      "metadata": {
        "id": "srH3HewJx2WQ",
        "colab_type": "code",
        "outputId": "2efa4381-8dea-47b3-f906-da102e7328f0",
        "colab": {
          "base_uri": "https://localhost:8080/",
          "height": 476
        }
      },
      "source": [
        "df"
      ],
      "execution_count": 0,
      "outputs": [
        {
          "output_type": "execute_result",
          "data": {
            "text/plain": [
              "[                                                   0                                                  1\n",
              " 0  2330¥x¿n¹q  ¨«¶Õ¹Ï  §Þ³N¤ÀªR  ¦¨¥æ·J¾ã  °ò¥»  ...  2330¥x¿n¹q  ¨«¶Õ¹Ï  §Þ³N¤ÀªR  ¦¨¥æ·J¾ã  °ò¥»  ...\n",
              " 1                                                NaN                                                NaN\n",
              " 2  ¥D¤O¶i¥X¡@¸ê¨éÅÜ¤Æ¡@¡@¡@¡@¡@¡@¡@¡@¡@¡@¡@¡@¡@¡@...                                                NaN,\n",
              "                                                    0                                                  1\n",
              " 0  ¸ê®Æ¤é´Á¡G109 /04 /01 ­Ó ªÑ ·í ¤é ¥D ¤O ¶i ¥X ...  ¸ê®Æ¤é´Á¡G109 /04 /01 ­Ó ªÑ ·í ¤é ¥D ¤O ¶i ¥X ...,\n",
              "                        0                        1           2\n",
              " 0  ¸ê®Æ¤é´Á¡G109 /04 /01  ­Ó ªÑ ·í ¤é ¥D ¤O ¶i ¥X  ³æ¦ì¡G±i¼Æ,\n",
              "                 0     1     2      3               4     5     6      7\n",
              " 0        ¶R¶W¨é°Ó  ¶R¶i  ½æ¥X   ¶R¶W        ½æ¶W¨é°Ó  ¶R¶i  ½æ¥X   ½æ¶W\n",
              " 1        ¼¯®Ú¤j³q  7957   916  +7041            ¬üªL  1738  3836  -2098\n",
              " 2      ´ä°Ó³Á®æ²z  4587   756  +3831        °ê®õÃÒ¨é    39  1907  -1868\n",
              " 3        ªáºXÀô²y  1038     0  +1038       ³Í°ò-¥x¥_    69  1926  -1857\n",
              " 4       ¤¸´I-¥x¤¤   625     3   +622    ­»´ä¤W®ü¶×Â×   195  1618  -1423\n",
              " 5        ´I¨¹ÃÒ¨é   503    22   +481    ¥xÆW¶×¥ßÃÒ¨é  1818  3162  -1344\n",
              " 6        ¬ü°Ó°ª²±  1645  1231   +414  ¥xÆW¼¯®Ú¤h¤¦§Q  4122  5314  -1192\n",
              " 7        ¤¸¤jÃÒ¨é  1182   806   +376        ¤j©M°ê®õ   434  1376   -942\n",
              " 8            »O»È   277    53   +224        ´ä°Ó³¥§ø   228  1040   -812\n",
              " 9            ¨ÈªF   192    15   +177    ·s¥[©Y°Ó·ç»È   805  1579   -774\n",
              " 10      ³Í°ò-«H¸q   163     2   +161       ¥üÂ×-«n¨Ê     5   740   -735\n",
              " 11       ¥x·sÃÒ¨é   275   114   +161            ²Î¤@    73   780   -707\n",
              " 12  µØ«n¥Ã©÷-«n¨Ê   131     8   +123        µØ«n¥Ã©÷    38   539   -501\n",
              " 13      ²Î¤@-·s¦Ë   131    15   +116          ²Ä¤@ª÷     3   301   -298\n",
              " 14  ´I¨¹-·s¦ËµØ«H   141    28   +113      ¥ÃÂ×ª÷ÃÒ¨é   329   581   -252\n",
              " 15      ¶§«H-¥ÛµP   124    15   +109   ¸s¯qª÷¹©-ªQ¤s     0   208   -208,\n",
              "                                                    0\n",
              " 0  Yahoo Finance ªA°È±ø´Ú Áô¨pÅv Áô¨pÅv»öªíªO ¹Å¹...]"
            ]
          },
          "metadata": {
            "tags": []
          },
          "execution_count": 19
        }
      ]
    },
    {
      "cell_type": "code",
      "metadata": {
        "id": "Q3KV_qFmyDhe",
        "colab_type": "code",
        "outputId": "43fdc330-aab0-49d8-d343-dd4298e63d22",
        "colab": {
          "base_uri": "https://localhost:8080/",
          "height": 165
        }
      },
      "source": [
        "df.encoding = 'Big5'"
      ],
      "execution_count": 0,
      "outputs": [
        {
          "output_type": "error",
          "ename": "AttributeError",
          "evalue": "ignored",
          "traceback": [
            "\u001b[0;31m---------------------------------------------------------------------------\u001b[0m",
            "\u001b[0;31mAttributeError\u001b[0m                            Traceback (most recent call last)",
            "\u001b[0;32m<ipython-input-10-d328c21263c3>\u001b[0m in \u001b[0;36m<module>\u001b[0;34m()\u001b[0m\n\u001b[0;32m----> 1\u001b[0;31m \u001b[0mdf\u001b[0m\u001b[0;34m.\u001b[0m\u001b[0mencoding\u001b[0m \u001b[0;34m=\u001b[0m \u001b[0;34m'Big5'\u001b[0m\u001b[0;34m\u001b[0m\u001b[0;34m\u001b[0m\u001b[0m\n\u001b[0m",
            "\u001b[0;31mAttributeError\u001b[0m: 'list' object has no attribute 'encoding'"
          ]
        }
      ]
    },
    {
      "cell_type": "code",
      "metadata": {
        "id": "iRhVdVgkVzRb",
        "colab_type": "code",
        "colab": {
          "base_uri": "https://localhost:8080/",
          "height": 221
        },
        "outputId": "754f0d1c-a247-436b-f501-45b15fc95563"
      },
      "source": [
        "!pip install requests\n",
        "!pip install pyquery"
      ],
      "execution_count": 4,
      "outputs": [
        {
          "output_type": "stream",
          "text": [
            "Requirement already satisfied: requests in /usr/local/lib/python3.6/dist-packages (2.21.0)\n",
            "Requirement already satisfied: chardet<3.1.0,>=3.0.2 in /usr/local/lib/python3.6/dist-packages (from requests) (3.0.4)\n",
            "Requirement already satisfied: idna<2.9,>=2.5 in /usr/local/lib/python3.6/dist-packages (from requests) (2.8)\n",
            "Requirement already satisfied: urllib3<1.25,>=1.21.1 in /usr/local/lib/python3.6/dist-packages (from requests) (1.24.3)\n",
            "Requirement already satisfied: certifi>=2017.4.17 in /usr/local/lib/python3.6/dist-packages (from requests) (2019.11.28)\n",
            "Collecting pyquery\n",
            "  Downloading https://files.pythonhosted.org/packages/78/43/95d42e386c61cb639d1a0b94f0c0b9f0b7d6b981ad3c043a836c8b5bc68b/pyquery-1.4.1-py2.py3-none-any.whl\n",
            "Collecting cssselect>0.7.9\n",
            "  Downloading https://files.pythonhosted.org/packages/3b/d4/3b5c17f00cce85b9a1e6f91096e1cc8e8ede2e1be8e96b87ce1ed09e92c5/cssselect-1.1.0-py2.py3-none-any.whl\n",
            "Requirement already satisfied: lxml>=2.1 in /usr/local/lib/python3.6/dist-packages (from pyquery) (4.2.6)\n",
            "Installing collected packages: cssselect, pyquery\n",
            "Successfully installed cssselect-1.1.0 pyquery-1.4.1\n"
          ],
          "name": "stdout"
        }
      ]
    },
    {
      "cell_type": "code",
      "metadata": {
        "id": "BKjcSrnQyyWG",
        "colab_type": "code",
        "colab": {
          "base_uri": "https://localhost:8080/",
          "height": 34
        },
        "outputId": "cd556d6c-02e9-4d34-e720-303372b27d08"
      },
      "source": [
        "import requests\n",
        "from pyquery import PyQuery as pq\n",
        "\n",
        "res = requests.get(\"https://tw.stock.yahoo.com/d/s/major_2330.html\")\n",
        "res.encoding = \"utf-8\"\n",
        "\n",
        "doc = pq(res.text)\n",
        "\n",
        "doc\n"
      ],
      "execution_count": 6,
      "outputs": [
        {
          "output_type": "execute_result",
          "data": {
            "text/plain": [
              "[<html>]"
            ]
          },
          "metadata": {
            "tags": []
          },
          "execution_count": 6
        }
      ]
    },
    {
      "cell_type": "code",
      "metadata": {
        "id": "dGTepJEGVQ2P",
        "colab_type": "code",
        "colab": {}
      },
      "source": [
        ""
      ],
      "execution_count": 0,
      "outputs": []
    }
  ]
}