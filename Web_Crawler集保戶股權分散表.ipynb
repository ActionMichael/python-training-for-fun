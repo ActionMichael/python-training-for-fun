{
  "nbformat": 4,
  "nbformat_minor": 0,
  "metadata": {
    "colab": {
      "name": "Web Crawler集保戶股權分散表.ipynb",
      "provenance": [],
      "authorship_tag": "ABX9TyPliKN9PbT4/L5Wiu3L58O3",
      "include_colab_link": true
    },
    "kernelspec": {
      "name": "python3",
      "display_name": "Python 3"
    }
  },
  "cells": [
    {
      "cell_type": "markdown",
      "metadata": {
        "id": "view-in-github",
        "colab_type": "text"
      },
      "source": [
        "<a href=\"https://colab.research.google.com/github/ActionMichael/python-training-for-fun/blob/master/Web_Crawler%E9%9B%86%E4%BF%9D%E6%88%B6%E8%82%A1%E6%AC%8A%E5%88%86%E6%95%A3%E8%A1%A8.ipynb\" target=\"_parent\"><img src=\"https://colab.research.google.com/assets/colab-badge.svg\" alt=\"Open In Colab\"/></a>"
      ]
    },
    {
      "cell_type": "code",
      "metadata": {
        "id": "vt8ER8LNoLqn",
        "colab_type": "code",
        "colab": {}
      },
      "source": [
        "import pandas as pd"
      ],
      "execution_count": 0,
      "outputs": []
    },
    {
      "cell_type": "code",
      "metadata": {
        "id": "m9cZYLO5pZXH",
        "colab_type": "code",
        "colab": {
          "base_uri": "https://localhost:8080/",
          "height": 255
        },
        "outputId": "844664da-e6ab-4c4c-cbcf-bc77b2a0d0fa"
      },
      "source": [
        "url = \"https://quality.data.gov.tw/dq_download_csv.php?nid=11452&md5_url=29fa0919324949c6468e02c8c3313e57\"\n",
        "df = pd.read_csv(url)\n",
        "df.head"
      ],
      "execution_count": 3,
      "outputs": [
        {
          "output_type": "execute_result",
          "data": {
            "text/plain": [
              "<bound method NDFrame.head of            資料日期    證券代號  持股分級     人數         股數  占集保庫存數比例%\n",
              "0      20200320    0050     1  42622   10552817       1.00\n",
              "1      20200320    0050     2  91585  178913573      17.11\n",
              "2      20200320    0050     3  10214   78827365       7.53\n",
              "3      20200320    0050     4   2797   35812484       3.42\n",
              "4      20200320    0050     5   1558   28461457       2.72\n",
              "...         ...     ...   ...    ...        ...        ...\n",
              "47323  20200320  YY0079    13      0          0       0.00\n",
              "47324  20200320  YY0079    14      0          0       0.00\n",
              "47325  20200320  YY0079    15      0          0       0.00\n",
              "47326  20200320  YY0079    16      0          0       0.00\n",
              "47327  20200320  YY0079    17     81     331000     100.00\n",
              "\n",
              "[47328 rows x 6 columns]>"
            ]
          },
          "metadata": {
            "tags": []
          },
          "execution_count": 3
        }
      ]
    },
    {
      "cell_type": "code",
      "metadata": {
        "id": "byoj8QJ0qP3L",
        "colab_type": "code",
        "colab": {}
      },
      "source": [
        ""
      ],
      "execution_count": 0,
      "outputs": []
    }
  ]
}