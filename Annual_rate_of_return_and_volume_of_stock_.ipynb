{
  "nbformat": 4,
  "nbformat_minor": 0,
  "metadata": {
    "colab": {
      "name": "Annual rate of return and volume of stock .ipynb",
      "provenance": [],
      "authorship_tag": "ABX9TyNAMQfranskNprDuz0l9tyK",
      "include_colab_link": true
    },
    "kernelspec": {
      "name": "python3",
      "display_name": "Python 3"
    }
  },
  "cells": [
    {
      "cell_type": "markdown",
      "metadata": {
        "id": "view-in-github",
        "colab_type": "text"
      },
      "source": [
        "<a href=\"https://colab.research.google.com/github/ActionMichael/python-training-for-fun/blob/master/Annual_rate_of_return_and_volume_of_stock_.ipynb\" target=\"_parent\"><img src=\"https://colab.research.google.com/assets/colab-badge.svg\" alt=\"Open In Colab\"/></a>"
      ]
    },
    {
      "cell_type": "code",
      "metadata": {
        "id": "Gp36hgmoeQK8",
        "colab_type": "code",
        "colab": {}
      },
      "source": [
        "import pandas_datareader.data as pddr"
      ],
      "execution_count": 0,
      "outputs": []
    },
    {
      "cell_type": "code",
      "metadata": {
        "id": "JAWsQmz8gNzA",
        "colab_type": "code",
        "colab": {}
      },
      "source": [
        "df = pddr.DataReader('2891.tw','yahoo','2019.01.01','2019.12.31')"
      ],
      "execution_count": 0,
      "outputs": []
    },
    {
      "cell_type": "code",
      "metadata": {
        "id": "ZvGR-P3rhJX0",
        "colab_type": "code",
        "colab": {
          "base_uri": "https://localhost:8080/",
          "height": 235
        },
        "outputId": "d294ce50-1909-44cd-8962-d14be5d5b04c"
      },
      "source": [
        "df.head()"
      ],
      "execution_count": 6,
      "outputs": [
        {
          "output_type": "execute_result",
          "data": {
            "text/html": [
              "<div>\n",
              "<style scoped>\n",
              "    .dataframe tbody tr th:only-of-type {\n",
              "        vertical-align: middle;\n",
              "    }\n",
              "\n",
              "    .dataframe tbody tr th {\n",
              "        vertical-align: top;\n",
              "    }\n",
              "\n",
              "    .dataframe thead th {\n",
              "        text-align: right;\n",
              "    }\n",
              "</style>\n",
              "<table border=\"1\" class=\"dataframe\">\n",
              "  <thead>\n",
              "    <tr style=\"text-align: right;\">\n",
              "      <th></th>\n",
              "      <th>High</th>\n",
              "      <th>Low</th>\n",
              "      <th>Open</th>\n",
              "      <th>Close</th>\n",
              "      <th>Volume</th>\n",
              "      <th>Adj Close</th>\n",
              "    </tr>\n",
              "    <tr>\n",
              "      <th>Date</th>\n",
              "      <th></th>\n",
              "      <th></th>\n",
              "      <th></th>\n",
              "      <th></th>\n",
              "      <th></th>\n",
              "      <th></th>\n",
              "    </tr>\n",
              "  </thead>\n",
              "  <tbody>\n",
              "    <tr>\n",
              "      <th>2019-01-02</th>\n",
              "      <td>20.200001</td>\n",
              "      <td>19.850000</td>\n",
              "      <td>20.200001</td>\n",
              "      <td>19.900000</td>\n",
              "      <td>20133127.0</td>\n",
              "      <td>18.978703</td>\n",
              "    </tr>\n",
              "    <tr>\n",
              "      <th>2019-01-03</th>\n",
              "      <td>20.049999</td>\n",
              "      <td>19.900000</td>\n",
              "      <td>20.000000</td>\n",
              "      <td>20.000000</td>\n",
              "      <td>19330631.0</td>\n",
              "      <td>19.074074</td>\n",
              "    </tr>\n",
              "    <tr>\n",
              "      <th>2019-01-04</th>\n",
              "      <td>19.950001</td>\n",
              "      <td>19.700001</td>\n",
              "      <td>19.900000</td>\n",
              "      <td>19.799999</td>\n",
              "      <td>44045060.0</td>\n",
              "      <td>18.883333</td>\n",
              "    </tr>\n",
              "    <tr>\n",
              "      <th>2019-01-07</th>\n",
              "      <td>20.100000</td>\n",
              "      <td>19.950001</td>\n",
              "      <td>20.000000</td>\n",
              "      <td>20.100000</td>\n",
              "      <td>28944924.0</td>\n",
              "      <td>19.169445</td>\n",
              "    </tr>\n",
              "    <tr>\n",
              "      <th>2019-01-08</th>\n",
              "      <td>20.100000</td>\n",
              "      <td>19.900000</td>\n",
              "      <td>20.100000</td>\n",
              "      <td>19.950001</td>\n",
              "      <td>20251704.0</td>\n",
              "      <td>19.026390</td>\n",
              "    </tr>\n",
              "  </tbody>\n",
              "</table>\n",
              "</div>"
            ],
            "text/plain": [
              "                 High        Low       Open      Close      Volume  Adj Close\n",
              "Date                                                                         \n",
              "2019-01-02  20.200001  19.850000  20.200001  19.900000  20133127.0  18.978703\n",
              "2019-01-03  20.049999  19.900000  20.000000  20.000000  19330631.0  19.074074\n",
              "2019-01-04  19.950001  19.700001  19.900000  19.799999  44045060.0  18.883333\n",
              "2019-01-07  20.100000  19.950001  20.000000  20.100000  28944924.0  19.169445\n",
              "2019-01-08  20.100000  19.900000  20.100000  19.950001  20251704.0  19.026390"
            ]
          },
          "metadata": {
            "tags": []
          },
          "execution_count": 6
        }
      ]
    },
    {
      "cell_type": "code",
      "metadata": {
        "id": "LOITkJ-shnJf",
        "colab_type": "code",
        "colab": {
          "base_uri": "https://localhost:8080/",
          "height": 238
        },
        "outputId": "56f525b7-8201-4c44-9bf2-afe7f43a71dd"
      },
      "source": [
        "df['Adj Close']"
      ],
      "execution_count": 8,
      "outputs": [
        {
          "output_type": "execute_result",
          "data": {
            "text/plain": [
              "Date\n",
              "2019-01-02    18.978703\n",
              "2019-01-03    19.074074\n",
              "2019-01-04    18.883333\n",
              "2019-01-07    19.169445\n",
              "2019-01-08    19.026390\n",
              "                ...    \n",
              "2019-12-25    22.450001\n",
              "2019-12-26    22.450001\n",
              "2019-12-27    22.500000\n",
              "2019-12-30    22.500000\n",
              "2019-12-31    22.400000\n",
              "Name: Adj Close, Length: 241, dtype: float64"
            ]
          },
          "metadata": {
            "tags": []
          },
          "execution_count": 8
        }
      ]
    },
    {
      "cell_type": "code",
      "metadata": {
        "id": "uWjzENJmiDEN",
        "colab_type": "code",
        "colab": {
          "base_uri": "https://localhost:8080/",
          "height": 34
        },
        "outputId": "a9f827fb-798f-4da0-be5a-5d14caf12b2e"
      },
      "source": [
        "((df['Adj Close'][-1]/df['Adj Close'][0])-1)*100"
      ],
      "execution_count": 16,
      "outputs": [
        {
          "output_type": "execute_result",
          "data": {
            "text/plain": [
              "18.027033540476033"
            ]
          },
          "metadata": {
            "tags": []
          },
          "execution_count": 16
        }
      ]
    },
    {
      "cell_type": "code",
      "metadata": {
        "id": "0x8pAnT2hPe5",
        "colab_type": "code",
        "colab": {}
      },
      "source": [
        "def AROR(stock_no , star_day , end_day):\n",
        "  df = pddr.DataReader(stock_no , 'yahoo' , star_day , end_day)\n",
        "  return ((df['Adj Close'][-1]/df['Adj Close'][0])-1)*100"
      ],
      "execution_count": 0,
      "outputs": []
    },
    {
      "cell_type": "code",
      "metadata": {
        "id": "6I4FZV2WkdHu",
        "colab_type": "code",
        "colab": {
          "base_uri": "https://localhost:8080/",
          "height": 34
        },
        "outputId": "5bbeaf8d-c6bf-44ae-d19e-bc0ae31b209c"
      },
      "source": [
        "AROR('2885.tw' , '2020.01.01' , '2020.03.31')"
      ],
      "execution_count": 22,
      "outputs": [
        {
          "output_type": "execute_result",
          "data": {
            "text/plain": [
              "-24.257427659084673"
            ]
          },
          "metadata": {
            "tags": []
          },
          "execution_count": 22
        }
      ]
    },
    {
      "cell_type": "code",
      "metadata": {
        "id": "bdEGMI26kuOW",
        "colab_type": "code",
        "colab": {
          "base_uri": "https://localhost:8080/",
          "height": 403
        },
        "outputId": "0dcac3d5-4946-4c87-f049-69d9f4477d56"
      },
      "source": [
        "df['Volume'].plot(kind='bar')"
      ],
      "execution_count": 23,
      "outputs": [
        {
          "output_type": "execute_result",
          "data": {
            "text/plain": [
              "<matplotlib.axes._subplots.AxesSubplot at 0x7fa44fbba358>"
            ]
          },
          "metadata": {
            "tags": []
          },
          "execution_count": 23
        },
        {
          "output_type": "display_data",
          "data": {
            "image/png": "[encoded data removed]",
            "text/plain": [
              "<Figure size 432x288 with 1 Axes>"
            ]
          },
          "metadata": {
            "tags": []
          }
        }
      ]
    },
    {
      "cell_type": "code",
      "metadata": {
        "id": "j57tG6dwl5uv",
        "colab_type": "code",
        "colab": {}
      },
      "source": [
        ""
      ],
      "execution_count": 0,
      "outputs": []
    }
  ]
}